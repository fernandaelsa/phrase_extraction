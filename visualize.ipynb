{
 "cells": [
  {
   "cell_type": "markdown",
   "metadata": {},
   "source": [
    "# Import and Load spaCy Models"
   ]
  },
  {
   "cell_type": "code",
   "execution_count": null,
   "metadata": {},
   "outputs": [],
   "source": [
    "import spacy\n",
    "from spacy import displacy\n",
    "from phrase_extraction import *\n",
    "from span_suggester import *\n",
    "\n",
    "# simply load the previously saved model\n",
    "nlp = spacy.load('models/method_a')\n",
    "\n",
    "# set True for Method A and False for Method B & C\n",
    "preprocess = True\n",
    "\n",
    "print(nlp.pipe_names)"
   ]
  },
  {
   "cell_type": "markdown",
   "metadata": {},
   "source": [
    "# Process Any Sentence"
   ]
  },
  {
   "cell_type": "code",
   "execution_count": null,
   "metadata": {},
   "outputs": [],
   "source": [
    "# process a sentence\n",
    "sentence = \"The controller shall be able to demonstrate that the data subject has consented to processing of the controller or her personal data.\"\n",
    "\n",
    "if preprocess:\n",
    "    doc = with_preprocessing(nlp, sentence)\n",
    "else:\n",
    "    doc = nlp(sentence)\n",
    "\n",
    "displacy.render(doc, style='span', options={'colors': span_colors})\n",
    "displacy.render(doc, style='dep', options={'colors': span_colors})"
   ]
  },
  {
   "cell_type": "markdown",
   "metadata": {},
   "source": [
    "# Process All in a Dataset"
   ]
  },
  {
   "cell_type": "code",
   "execution_count": null,
   "metadata": {},
   "outputs": [],
   "source": [
    "import pandas as pd\n",
    "\n",
    "gold_standard = pd.read_json('dataset/gold_standard.jsonl', lines=True)"
   ]
  },
  {
   "cell_type": "code",
   "execution_count": null,
   "metadata": {},
   "outputs": [],
   "source": [
    "# extract each gold standard sentence\n",
    "for i, row in gold_standard.iterrows():\n",
    "    print(f'--------Sentence {i}--------')\n",
    "    sentence = row['text']\n",
    "    \n",
    "    if preprocess:\n",
    "        doc = with_preprocessing(nlp, sentence)\n",
    "    else:\n",
    "        doc = nlp(sentence)\n",
    "\n",
    "    displacy.render(doc, style='span', options={'colors': span_colors})"
   ]
  },
  {
   "cell_type": "markdown",
   "metadata": {},
   "source": [
    "# Visualize the Manually Annotated Data (no extraction)"
   ]
  },
  {
   "cell_type": "code",
   "execution_count": null,
   "metadata": {},
   "outputs": [],
   "source": [
    "import json\n",
    "\n",
    "# extract each gold standard sentence\n",
    "with open('dataset/annotated_gold_standard.jsonl', 'r') as f:\n",
    "    for i, line in enumerate(f):\n",
    "        d = json.loads(line)\n",
    "        print(f'--------Sentence {i}--------')\n",
    "        sentence = row['text']\n",
    "        doc = doc_from_annotation(nlp.vocab, d)\n",
    "        displacy.render(doc, style='span', options={'colors': span_colors})"
   ]
  }
 ],
 "metadata": {
  "kernelspec": {
   "display_name": "Python 3.9.13 ('explosion')",
   "language": "python",
   "name": "python3"
  },
  "language_info": {
   "codemirror_mode": {
    "name": "ipython",
    "version": 3
   },
   "file_extension": ".py",
   "mimetype": "text/x-python",
   "name": "python",
   "nbconvert_exporter": "python",
   "pygments_lexer": "ipython3",
   "version": "3.9.13"
  },
  "orig_nbformat": 4,
  "vscode": {
   "interpreter": {
    "hash": "2d4d48e94841b673953eb474225f6a0583aad645e0609b96cb54ab76600d8cc1"
   }
  }
 },
 "nbformat": 4,
 "nbformat_minor": 2
}
