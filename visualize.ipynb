{
 "cells": [
  {
   "cell_type": "code",
   "execution_count": null,
   "metadata": {},
   "outputs": [],
   "source": [
    "import spacy\n",
    "from spacy import displacy\n",
    "from phrase_extraction import *\n",
    "\n",
    "# Initially: create and save model with phrase_spans component\n",
    "# nlp = spacy.load('en_core_web_trf')\n",
    "# nlp.add_pipe('merge_noun_chunks')\n",
    "# nlp.add_pipe('merge_entities')\n",
    "# nlp.add_pipe('phrase_spans')\n",
    "# nlp.to_disk('./models/method_a')\n",
    "\n",
    "# Afterwards: simply load the previously saved model\n",
    "nlp = spacy.load('models/method_a')\n",
    "\n",
    "print(nlp.pipe_names)\n"
   ]
  },
  {
   "cell_type": "code",
   "execution_count": null,
   "metadata": {},
   "outputs": [],
   "source": [
    "# process a sentence\n",
    "sentence = \"Where processing has been restricted under paragraph 1, such personal data shall, with the exception of storage, only be processed with the data subject's consent or for the establishment, exercise or defence of legal claims or for the protection of the rights of another natural or legal person or for reasons of important public interest of the Union or of a Member State.\"\n",
    "\n",
    "doc = with_preprocessing(nlp, sentence)\n",
    "\n",
    "for i, doc.spans['sc'][i] in enumerate(doc.spans['sc']):\n",
    "    print(doc.spans['sc'][i].label_ + \" ----> \" + doc.spans['sc'][i].text)\n",
    "\n",
    "displacy.render(doc, style='span', options={'colors': span_colors})\n",
    "displacy.render(doc, style='dep', options={'colors': span_colors})"
   ]
  },
  {
   "cell_type": "code",
   "execution_count": null,
   "metadata": {},
   "outputs": [],
   "source": [
    "import pandas as pd\n",
    "\n",
    "gold_standard = pd.read_json('dataset/gold_standard.jsonl', lines=True)"
   ]
  },
  {
   "cell_type": "code",
   "execution_count": null,
   "metadata": {},
   "outputs": [],
   "source": [
    "# extract each gold standard sentence\n",
    "for i, row in gold_standard.iterrows():\n",
    "    print(f'--------Sentence {i}--------')\n",
    "    sentence = row['text']\n",
    "    doc = with_preprocessing(nlp, sentence)\n",
    "    displacy.render(doc, style='span', options={'colors': span_colors})\n",
    "\n",
    "# extract each gold standard sentence using pipe to speed up\n",
    "# for i, doc in enumerate(nlp.pipe(gold_standard['text'])):\n",
    "#     print(f'--------Sentence {i + 1}--------')\n",
    "    \n",
    "#     # doc._.extracted.print(display_tree=False)\n",
    "#     displacy.render(doc, style='span', options={'colors': span_colors})"
   ]
  }
 ],
 "metadata": {
  "kernelspec": {
   "display_name": "Python 3.9.13 ('explosion')",
   "language": "python",
   "name": "python3"
  },
  "language_info": {
   "codemirror_mode": {
    "name": "ipython",
    "version": 3
   },
   "file_extension": ".py",
   "mimetype": "text/x-python",
   "name": "python",
   "nbconvert_exporter": "python",
   "pygments_lexer": "ipython3",
   "version": "3.9.13"
  },
  "orig_nbformat": 4,
  "vscode": {
   "interpreter": {
    "hash": "2d4d48e94841b673953eb474225f6a0583aad645e0609b96cb54ab76600d8cc1"
   }
  }
 },
 "nbformat": 4,
 "nbformat_minor": 2
}
