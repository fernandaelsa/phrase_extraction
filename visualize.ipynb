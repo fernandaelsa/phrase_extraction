{
 "cells": [
  {
   "cell_type": "markdown",
   "metadata": {},
   "source": [
    "# Import and Load spaCy Models"
   ]
  },
  {
   "cell_type": "code",
   "execution_count": null,
   "metadata": {},
   "outputs": [],
   "source": [
    "import spacy\n",
    "from spacy import displacy\n",
    "from phrase_extraction import *\n",
    "\n",
    "# Initially: create and save model with phrase_spans component\n",
    "# nlp = spacy.load('en_core_web_trf')\n",
    "# nlp.add_pipe('merge_noun_chunks')\n",
    "# nlp.add_pipe('merge_entities')\n",
    "# nlp.add_pipe('phrase_spans')\n",
    "# nlp.to_disk('./models/method_a')\n",
    "\n",
    "# Afterwards: simply load the previously saved model\n",
    "nlp = spacy.load('models/method_a')\n",
    "\n",
    "print(nlp.pipe_names)\n"
   ]
  },
  {
   "cell_type": "markdown",
   "metadata": {},
   "source": [
    "# Process Any Sentence"
   ]
  },
  {
   "cell_type": "code",
   "execution_count": null,
   "metadata": {},
   "outputs": [],
   "source": [
    "# process a sentence\n",
    "sentence = \"Where processing is based on consent, the controller shall be able to demonstrate that the data subject has consented to processing of the controller or her personal data.\"\n",
    "\n",
    "doc = with_preprocessing(nlp, sentence)\n",
    "\n",
    "for i, doc.spans['sc'][i] in enumerate(doc.spans['sc']):\n",
    "    print(doc.spans['sc'][i].label_ + \" ----> \" + doc.spans['sc'][i].text)\n",
    "\n",
    "displacy.render(doc, style='span', options={'colors': span_colors})\n",
    "displacy.render(doc, style='dep', options={'colors': span_colors})"
   ]
  },
  {
   "cell_type": "markdown",
   "metadata": {},
   "source": [
    "# Process All in a Dataset"
   ]
  },
  {
   "cell_type": "code",
   "execution_count": null,
   "metadata": {},
   "outputs": [],
   "source": [
    "import pandas as pd\n",
    "\n",
    "gold_standard = pd.read_json('dataset/gold_standard.jsonl', lines=True)"
   ]
  },
  {
   "cell_type": "code",
   "execution_count": null,
   "metadata": {},
   "outputs": [],
   "source": [
    "# extract each gold standard sentence\n",
    "for i, row in gold_standard.iterrows():\n",
    "    print(f'--------Sentence {i}--------')\n",
    "    sentence = row['text']\n",
    "    doc = with_preprocessing(nlp, sentence)\n",
    "    displacy.render(doc, style='span', options={'colors': span_colors})"
   ]
  },
  {
   "cell_type": "markdown",
   "metadata": {},
   "source": [
    "# Visualize the Manually Annotated Data (no extraction)"
   ]
  },
  {
   "cell_type": "code",
   "execution_count": null,
   "metadata": {},
   "outputs": [],
   "source": [
    "import json\n",
    "\n",
    "# extract each gold standard sentence\n",
    "signals = []\n",
    "with open('dataset/annotated_training_data.jsonl', 'r') as f:\n",
    "    for i, line in enumerate(f):\n",
    "        d = json.loads(line)\n",
    "        # print(f'--------Sentence {i}--------')\n",
    "        sentence = row['text']\n",
    "        doc = doc_from_annotation(nlp.vocab, d)\n",
    "        signals += [s.text for s in doc.spans['sc'] if s.label_ in ['SIGNAL', 'OP_SIGNAL']]\n",
    "        #displacy.render(doc, style='span', options={'colors': span_colors})\n",
    "\n",
    "signals = set(signals)\n",
    "signals"
   ]
  }
 ],
 "metadata": {
  "kernelspec": {
   "display_name": "Python 3.9.13 ('explosion')",
   "language": "python",
   "name": "python3"
  },
  "language_info": {
   "codemirror_mode": {
    "name": "ipython",
    "version": 3
   },
   "file_extension": ".py",
   "mimetype": "text/x-python",
   "name": "python",
   "nbconvert_exporter": "python",
   "pygments_lexer": "ipython3",
   "version": "3.9.13"
  },
  "orig_nbformat": 4,
  "vscode": {
   "interpreter": {
    "hash": "2d4d48e94841b673953eb474225f6a0583aad645e0609b96cb54ab76600d8cc1"
   }
  }
 },
 "nbformat": 4,
 "nbformat_minor": 2
}
