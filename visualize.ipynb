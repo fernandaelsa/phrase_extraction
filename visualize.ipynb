{
 "cells": [
  {
   "cell_type": "code",
   "execution_count": null,
   "metadata": {},
   "outputs": [],
   "source": [
    "import spacy\n",
    "from spacy import displacy\n",
    "from phrase_extraction import *\n",
    "\n",
    "# Initially: create and save model with phrase_spans component\n",
    "# nlp = spacy.load('en_core_web_trf')\n",
    "# nlp.add_pipe('merge_noun_chunks')\n",
    "# nlp.add_pipe('merge_entities')\n",
    "# nlp.add_pipe('phrase_spans')\n",
    "# nlp.to_disk('./models/phrase_spans_model')\n",
    "\n",
    "# Afterwards: simply load the previously saved model\n",
    "nlp = spacy.load('./models/method_b/model-best/')\n",
    "\n",
    "\n",
    "print(nlp.pipe_names)"
   ]
  },
  {
   "cell_type": "code",
   "execution_count": null,
   "metadata": {},
   "outputs": [],
   "source": [
    "# supress CUDA warnings on non-GPU machine\n",
    "import warnings\n",
    "warnings.filterwarnings(\"ignore\")"
   ]
  },
  {
   "cell_type": "code",
   "execution_count": null,
   "metadata": {},
   "outputs": [],
   "source": [
    "# process a sentence\n",
    "sentence = \"A Commission Regulation should specify the structure and amounts of fees, including specifying the circumstances under which a proportion of the fees will be transferred to the relevant Member State competent authority. \"\n",
    "\n",
    "\n",
    "doc = nlp(sentence)\n",
    "\n",
    "for i, doc.spans['sc'][i] in enumerate(doc.spans['sc']):\n",
    "    print(doc.spans['sc'][i].label_ + \" ----> \" + doc.spans['sc'][i].text)\n",
    "\n",
    "displacy.render(doc, style='span', options={'colors': span_colors})\n",
    "displacy.render(doc, style='dep', options={'colors': span_colors})"
   ]
  },
  {
   "cell_type": "code",
   "execution_count": null,
   "metadata": {},
   "outputs": [],
   "source": [
    "import pandas as pd\n",
    "\n",
    "gold_standard = pd.read_json('dataset/gold_standard.jsonl', lines=True)"
   ]
  },
  {
   "cell_type": "code",
   "execution_count": null,
   "metadata": {},
   "outputs": [],
   "source": [
    "# extract each gold standard sentence\n",
    "# for i, row in gold_standard.iterrows():\n",
    "#     print(f'--------Sentence {i}--------')\n",
    "#     sentence = row['text']\n",
    "#     doc = nlp(sentence)\n",
    "#     displacy.render(doc, style='span', options={'colors': colors})\n",
    "\n",
    "# extract each gold standard sentence using pipe to speed up\n",
    "for i, doc in enumerate(nlp.pipe(gold_standard['text'])):\n",
    "    print(f'--------Sentence {i + 1}--------')\n",
    "    \n",
    "    # doc._.extracted.print(display_tree=False)\n",
    "    displacy.render(doc, style='span', options={'colors': span_colors})"
   ]
  }
 ],
 "metadata": {
  "kernelspec": {
   "display_name": "Python 3.9.13 ('explosion')",
   "language": "python",
   "name": "python3"
  },
  "language_info": {
   "codemirror_mode": {
    "name": "ipython",
    "version": 3
   },
   "file_extension": ".py",
   "mimetype": "text/x-python",
   "name": "python",
   "nbconvert_exporter": "python",
   "pygments_lexer": "ipython3",
   "version": "3.9.13"
  },
  "orig_nbformat": 4,
  "vscode": {
   "interpreter": {
    "hash": "2d4d48e94841b673953eb474225f6a0583aad645e0609b96cb54ab76600d8cc1"
   }
  }
 },
 "nbformat": 4,
 "nbformat_minor": 2
}
